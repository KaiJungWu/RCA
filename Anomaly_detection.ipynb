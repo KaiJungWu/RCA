{
  "nbformat": 4,
  "nbformat_minor": 0,
  "metadata": {
    "colab": {
      "provenance": [],
      "authorship_tag": "ABX9TyPcLJxXUi9D+E2clPJZC8w4",
      "include_colab_link": true
    },
    "kernelspec": {
      "name": "python3",
      "display_name": "Python 3"
    },
    "language_info": {
      "name": "python"
    },
    "accelerator": "TPU"
  },
  "cells": [
    {
      "cell_type": "markdown",
      "metadata": {
        "id": "view-in-github",
        "colab_type": "text"
      },
      "source": [
        "<a href=\"https://colab.research.google.com/github/KaiJungWu/RCA/blob/main/Anomaly_detection.ipynb\" target=\"_parent\"><img src=\"https://colab.research.google.com/assets/colab-badge.svg\" alt=\"Open In Colab\"/></a>"
      ]
    },
    {
      "cell_type": "code",
      "execution_count": 25,
      "metadata": {
        "id": "fjzjJov02uZ-"
      },
      "outputs": [],
      "source": [
        "import numpy as np\n",
        "import pandas as pd\n",
        "from sklearn.preprocessing import MinMaxScaler\n",
        "import pickle\n"
      ]
    },
    {
      "cell_type": "code",
      "source": [
        "#1. Definition of functions\n",
        "\n",
        "def CNNDataPrep(mtrx, time_step):\n",
        "    \"\"\" Prepares the data for CNN input.\n",
        "        The output array has 4-D structure as\n",
        "        (batch_size, timestep, input_dim, color_channel).\n",
        "    \"\"\"\n",
        "    data_temp = list()\n",
        "\n",
        "    for num in range(0, mtrx.shape[0]-time_step+1):\n",
        "            data_temp1 = mtrx[num:num+time_step, :]\n",
        "            data_temp.append(data_temp1)\n",
        "\n",
        "    Temp_out = np.array(data_temp)\n",
        "    Temp_out = Temp_out[:,:,:,np.newaxis]\n",
        "\n",
        "    return Temp_out\n"
      ],
      "metadata": {
        "id": "X4nfpZYP31z4"
      },
      "execution_count": 26,
      "outputs": []
    },
    {
      "cell_type": "code",
      "source": [
        "def DataSplit(mtrx, split_num):\n",
        "    \"\"\" Split data array into two at the specified position.\n",
        "    \"\"\"\n",
        "    mtrx_len = mtrx.shape[0]\n",
        "    if split_num > mtrx_len:\n",
        "        print('DataSplit: split_num must be smaller than data length.')\n",
        "        return np.zeros(1), np.zeros(1)\n",
        "    else:\n",
        "        return mtrx[:split_num,...], mtrx[split_num:, ...]"
      ],
      "metadata": {
        "id": "yduj4X013_5O"
      },
      "execution_count": 27,
      "outputs": []
    },
    {
      "cell_type": "code",
      "source": [
        "def PeakHold(ParamOut, time_step):\n",
        "    \"\"\"\n",
        "    Apply peak-hold for input data array.\n",
        "    \"\"\"\n",
        "\n",
        "    df_len = ParamOut.shape[0]\n",
        "\n",
        "    if time_step>df_len:\n",
        "        print('PeakHold: Peak-hold time step must be smaller \\\n",
        "              than the data length.')\n",
        "    elif time_step==0:\n",
        "        return ParamOut\n",
        "    else:\n",
        "        list_temp = list(0 for i in range(0,time_step-1))\n",
        "        sr = pd.Series(ParamOut)\n",
        "\n",
        "        for i in range(0, df_len - time_step + 1):\n",
        "            list_temp.append(sr[i:i+time_step].max())\n",
        "\n",
        "        return np.array(list_temp)"
      ],
      "metadata": {
        "id": "XZd4WJO64B-N"
      },
      "execution_count": 28,
      "outputs": []
    },
    {
      "cell_type": "code",
      "source": [],
      "metadata": {
        "id": "XoQhgHnD9vIE"
      },
      "execution_count": 28,
      "outputs": []
    },
    {
      "cell_type": "code",
      "source": [
        "!unzip Data.zip"
      ],
      "metadata": {
        "colab": {
          "base_uri": "https://localhost:8080/"
        },
        "id": "_o8mu-LX4xZA",
        "outputId": "bc492a04-f706-4922-e7c7-0695c8e096a0"
      },
      "execution_count": 29,
      "outputs": [
        {
          "output_type": "stream",
          "name": "stdout",
          "text": [
            "Archive:  Data.zip\n",
            "   creating: Data/\n",
            "  inflating: Data/Selected_Parameters_01.csv  \n",
            "  inflating: Data/Selected_Parameters_02.csv  \n",
            "  inflating: Data/TL_01.csv          \n",
            "  inflating: Data/TL_02.csv          \n",
            "  inflating: Data/UC2-1.csv          \n",
            "  inflating: Data/UC2-2.csv          \n",
            "  inflating: Data/UC2-3.csv          \n",
            "  inflating: Data/UC2-3_2days.csv    \n",
            "  inflating: Data/UC2-4.csv          \n"
          ]
        }
      ]
    },
    {
      "cell_type": "code",
      "source": [],
      "metadata": {
        "id": "H77uYPrw9Hls"
      },
      "execution_count": 29,
      "outputs": []
    },
    {
      "cell_type": "code",
      "source": [
        "#2. Data input\n",
        "\n",
        "#2-1. Data path definition\n",
        "\n",
        "CSVDataPath = '/content/Data/'\n",
        "#Please define the correct data file path here.\n",
        "\n",
        "#2-2. CSV data file input\n",
        "df_Period1 = pd.read_csv(CSVDataPath + 'UC2-1.csv')\n",
        "df_Period2 = pd.read_csv(CSVDataPath + 'UC2-2.csv')\n",
        "df_Period3 = pd.read_csv(CSVDataPath + 'UC2-3.csv')\n",
        "df_Period4 = pd.read_csv(CSVDataPath + 'UC2-4.csv')\n"
      ],
      "metadata": {
        "id": "un1YwVTR4FBn"
      },
      "execution_count": 30,
      "outputs": []
    },
    {
      "cell_type": "code",
      "source": [
        "print(f'UC2-1 : {df_Period1.shape}')\n",
        "print(f'UC2-2 : {df_Period2.shape}')\n",
        "print(f'UC2-3 : {df_Period3.shape}')\n",
        "print(f'UC2-4 : {df_Period4.shape}')"
      ],
      "metadata": {
        "colab": {
          "base_uri": "https://localhost:8080/"
        },
        "id": "TjBfw02h6Eg_",
        "outputId": "ed3f0a3e-7f07-4be2-b51f-113897b4b893"
      },
      "execution_count": 31,
      "outputs": [
        {
          "output_type": "stream",
          "name": "stdout",
          "text": [
            "UC2-1 : (44640, 164)\n",
            "UC2-2 : (20160, 164)\n",
            "UC2-3 : (63360, 164)\n",
            "UC2-4 : (17280, 164)\n"
          ]
        }
      ]
    },
    {
      "cell_type": "code",
      "source": [
        "#2-3. Preparation of variables\n",
        "ParamNames = pd.read_csv(CSVDataPath +\n",
        "                         'Selected_Parameters_01.csv').values #Parameter list\n",
        "Longest_MH = np.amax(ParamNames[:,1]) #Longest Max-hold length\n",
        "lookback = 30 #Time-steps of CNN input data\n",
        "\n",
        "df_train1 = pd.DataFrame()\n",
        "df_train2 = pd.DataFrame()\n",
        "df_train3 = pd.DataFrame()\n",
        "df_train4 = pd.DataFrame()\n",
        "df_valid1 = pd.DataFrame()\n",
        "df_valid2 = pd.DataFrame()\n",
        "\n"
      ],
      "metadata": {
        "id": "KXK_vREw5O6O"
      },
      "execution_count": 32,
      "outputs": []
    },
    {
      "cell_type": "code",
      "source": [],
      "metadata": {
        "id": "0LSgPR3W7qwv"
      },
      "execution_count": 32,
      "outputs": []
    },
    {
      "cell_type": "code",
      "source": [
        "#3. CNN Input data preparation\n",
        "\n",
        "for (Target_Param, Max_hold_steps, Log_Convert, Log_base) in ParamNames:#Loop for each parameter\n",
        "    print(Target_Param)\n",
        "\n",
        "    day1_split = -1\n",
        "    day2_split = 8641\n",
        "\n",
        "#3-1. Data variables set-up\n",
        "    Param_period1 = df_Period1[Target_Param].values\n",
        "    Param_period2 = df_Period2[Target_Param].values\n",
        "    Param_period3 = df_Period3[Target_Param].values\n",
        "    Param_period4 = df_Period4[Target_Param].values\n",
        "\n",
        "#3-2. Max-hold calculation\n",
        "    Param_period1 = PeakHold(Param_period1, Max_hold_steps)\n",
        "    Param_period2 = PeakHold(Param_period2, Max_hold_steps)\n",
        "    Param_period3 = PeakHold(Param_period3, Max_hold_steps)\n",
        "    Param_period4 = PeakHold(Param_period4, Max_hold_steps)\n",
        "\n",
        "    Param_period4_1, Param_period4_2 =\\\n",
        "        DataSplit(Param_period4, day2_split)\n",
        "\n",
        "    df_train1[Target_Param] = Param_period1\n",
        "    df_train2[Target_Param] = Param_period2\n",
        "    df_train3[Target_Param] = Param_period3\n",
        "    df_valid1[Target_Param] = Param_period4_1 #Data4_1 for verification period 1\n",
        "    df_valid2[Target_Param] = Param_period4_2 #"
      ],
      "metadata": {
        "colab": {
          "base_uri": "https://localhost:8080/"
        },
        "id": "0UTsg39L5R4D",
        "outputId": "9d1417c6-f8bb-4a53-f109-cc8fc4527b7d"
      },
      "execution_count": 33,
      "outputs": [
        {
          "output_type": "stream",
          "name": "stdout",
          "text": [
            "ACTLD\n",
            "GT Load\n",
            "GT SPEED\n",
            "T1C\n",
            "CSO\n",
            "PLCSO\n",
            "MCSO\n",
            "IGV pos\n",
            "IGVCSO\n",
            "BYREF\n",
            "BV pos\n",
            "T2C\n",
            "BPT(ave)\n",
            "EXT(ave)\n",
            "Pcs\n",
            "Tcc(up)\n",
            "Tcc(low)\n",
            "PL FCV dP\n",
            "M FCV dP\n",
            "Tf\n",
            "FG P mani press\n",
            "FG M mani press\n",
            "FG supply press\n",
            "PL FCV pos\n",
            "PL PCV pos\n",
            "M FCV pos\n",
            "M PCV pos\n",
            "FG PL ratio\n",
            "FG flow\n",
            "PLFCSO\n",
            "PLPCSO\n",
            "MFMCSO\n",
            "MPACSO\n",
            "Tamb\n",
            "RH\n",
            "Pamb\n",
            "NOX(15%O2)\n",
            "Inlet filter dP (1st)\n",
            "Inlet filter dP (2nd)\n",
            "Inlet filter dP (3rd)\n",
            "FG LHV\n",
            "FG density\n",
            "FG supply press AGI\n",
            "C1 Methane\n",
            "C2 Ethane\n",
            "C3 Propane\n",
            "n-C4 n-Butane\n",
            "n-C4 i-Butane\n",
            "n-C5 n-Pantane\n",
            "n-C5 i-Pantane\n",
            "Neo-C5 neo-Pentane\n",
            "C6 Haxane\n",
            "CO2\n",
            "N2\n",
            "RCA temp (R)\n",
            "RCA temp (L)\n",
            "R2 DCT (R)\n",
            "R2 DCT (L)\n",
            "R3 DCT (R)\n",
            "R3 DCT (L)\n",
            "R4 DCT (R)\n",
            "R4 DCT (L)\n",
            "R4 DCT (DS)\n"
          ]
        }
      ]
    },
    {
      "cell_type": "code",
      "source": [],
      "metadata": {
        "id": "ajfyxpuqAR_a"
      },
      "execution_count": 33,
      "outputs": []
    },
    {
      "cell_type": "code",
      "source": [
        "print(f' df_train1 : {df_train1.shape}')\n",
        "print(f' df_train2 : {df_train2.shape}')\n",
        "print(f' df_train3 : {df_train3.shape}')\n",
        "print(f' df_valid1 : {df_valid1.shape}')\n",
        "print(f' df_valid2 : {df_valid2.shape}')"
      ],
      "metadata": {
        "colab": {
          "base_uri": "https://localhost:8080/"
        },
        "id": "cMvJnnNg5Ryt",
        "outputId": "e18b5dcb-157d-44cd-8f49-c5693f76fa13"
      },
      "execution_count": 34,
      "outputs": [
        {
          "output_type": "stream",
          "name": "stdout",
          "text": [
            " df_train1 : (44640, 63)\n",
            " df_train2 : (20160, 63)\n",
            " df_train3 : (63360, 63)\n",
            " df_valid1 : (8641, 63)\n",
            " df_valid2 : (8639, 63)\n"
          ]
        }
      ]
    },
    {
      "cell_type": "code",
      "source": [
        "#3-4. Data scaling\n",
        "\n",
        "Raw_train1 = df_train1.values\n",
        "Raw_train2 = df_train2.values\n",
        "Raw_train3 = df_train3.values\n",
        "Raw_valid1 = df_valid1.values\n",
        "Raw_valid2 = df_valid2.values"
      ],
      "metadata": {
        "id": "Z5BYuYvcISxx"
      },
      "execution_count": 35,
      "outputs": []
    },
    {
      "cell_type": "code",
      "source": [
        "\n",
        "#Min-Max scaler set-up for whole training data\n",
        "scaler = MinMaxScaler(copy=False)\n",
        "X_whole = np.concatenate((Raw_train1, Raw_train2, Raw_train3),axis=0)\n",
        "scaler.fit(X_whole)"
      ],
      "metadata": {
        "colab": {
          "base_uri": "https://localhost:8080/",
          "height": 75
        },
        "id": "OEKUIDbLIldr",
        "outputId": "a1e246ec-ab3d-40c9-ab95-aab79c924b2f"
      },
      "execution_count": 36,
      "outputs": [
        {
          "output_type": "execute_result",
          "data": {
            "text/plain": [
              "MinMaxScaler(copy=False)"
            ],
            "text/html": [
              "<style>#sk-container-id-1 {color: black;background-color: white;}#sk-container-id-1 pre{padding: 0;}#sk-container-id-1 div.sk-toggleable {background-color: white;}#sk-container-id-1 label.sk-toggleable__label {cursor: pointer;display: block;width: 100%;margin-bottom: 0;padding: 0.3em;box-sizing: border-box;text-align: center;}#sk-container-id-1 label.sk-toggleable__label-arrow:before {content: \"▸\";float: left;margin-right: 0.25em;color: #696969;}#sk-container-id-1 label.sk-toggleable__label-arrow:hover:before {color: black;}#sk-container-id-1 div.sk-estimator:hover label.sk-toggleable__label-arrow:before {color: black;}#sk-container-id-1 div.sk-toggleable__content {max-height: 0;max-width: 0;overflow: hidden;text-align: left;background-color: #f0f8ff;}#sk-container-id-1 div.sk-toggleable__content pre {margin: 0.2em;color: black;border-radius: 0.25em;background-color: #f0f8ff;}#sk-container-id-1 input.sk-toggleable__control:checked~div.sk-toggleable__content {max-height: 200px;max-width: 100%;overflow: auto;}#sk-container-id-1 input.sk-toggleable__control:checked~label.sk-toggleable__label-arrow:before {content: \"▾\";}#sk-container-id-1 div.sk-estimator input.sk-toggleable__control:checked~label.sk-toggleable__label {background-color: #d4ebff;}#sk-container-id-1 div.sk-label input.sk-toggleable__control:checked~label.sk-toggleable__label {background-color: #d4ebff;}#sk-container-id-1 input.sk-hidden--visually {border: 0;clip: rect(1px 1px 1px 1px);clip: rect(1px, 1px, 1px, 1px);height: 1px;margin: -1px;overflow: hidden;padding: 0;position: absolute;width: 1px;}#sk-container-id-1 div.sk-estimator {font-family: monospace;background-color: #f0f8ff;border: 1px dotted black;border-radius: 0.25em;box-sizing: border-box;margin-bottom: 0.5em;}#sk-container-id-1 div.sk-estimator:hover {background-color: #d4ebff;}#sk-container-id-1 div.sk-parallel-item::after {content: \"\";width: 100%;border-bottom: 1px solid gray;flex-grow: 1;}#sk-container-id-1 div.sk-label:hover label.sk-toggleable__label {background-color: #d4ebff;}#sk-container-id-1 div.sk-serial::before {content: \"\";position: absolute;border-left: 1px solid gray;box-sizing: border-box;top: 0;bottom: 0;left: 50%;z-index: 0;}#sk-container-id-1 div.sk-serial {display: flex;flex-direction: column;align-items: center;background-color: white;padding-right: 0.2em;padding-left: 0.2em;position: relative;}#sk-container-id-1 div.sk-item {position: relative;z-index: 1;}#sk-container-id-1 div.sk-parallel {display: flex;align-items: stretch;justify-content: center;background-color: white;position: relative;}#sk-container-id-1 div.sk-item::before, #sk-container-id-1 div.sk-parallel-item::before {content: \"\";position: absolute;border-left: 1px solid gray;box-sizing: border-box;top: 0;bottom: 0;left: 50%;z-index: -1;}#sk-container-id-1 div.sk-parallel-item {display: flex;flex-direction: column;z-index: 1;position: relative;background-color: white;}#sk-container-id-1 div.sk-parallel-item:first-child::after {align-self: flex-end;width: 50%;}#sk-container-id-1 div.sk-parallel-item:last-child::after {align-self: flex-start;width: 50%;}#sk-container-id-1 div.sk-parallel-item:only-child::after {width: 0;}#sk-container-id-1 div.sk-dashed-wrapped {border: 1px dashed gray;margin: 0 0.4em 0.5em 0.4em;box-sizing: border-box;padding-bottom: 0.4em;background-color: white;}#sk-container-id-1 div.sk-label label {font-family: monospace;font-weight: bold;display: inline-block;line-height: 1.2em;}#sk-container-id-1 div.sk-label-container {text-align: center;}#sk-container-id-1 div.sk-container {/* jupyter's `normalize.less` sets `[hidden] { display: none; }` but bootstrap.min.css set `[hidden] { display: none !important; }` so we also need the `!important` here to be able to override the default hidden behavior on the sphinx rendered scikit-learn.org. See: https://github.com/scikit-learn/scikit-learn/issues/21755 */display: inline-block !important;position: relative;}#sk-container-id-1 div.sk-text-repr-fallback {display: none;}</style><div id=\"sk-container-id-1\" class=\"sk-top-container\"><div class=\"sk-text-repr-fallback\"><pre>MinMaxScaler(copy=False)</pre><b>In a Jupyter environment, please rerun this cell to show the HTML representation or trust the notebook. <br />On GitHub, the HTML representation is unable to render, please try loading this page with nbviewer.org.</b></div><div class=\"sk-container\" hidden><div class=\"sk-item\"><div class=\"sk-estimator sk-toggleable\"><input class=\"sk-toggleable__control sk-hidden--visually\" id=\"sk-estimator-id-1\" type=\"checkbox\" checked><label for=\"sk-estimator-id-1\" class=\"sk-toggleable__label sk-toggleable__label-arrow\">MinMaxScaler</label><div class=\"sk-toggleable__content\"><pre>MinMaxScaler(copy=False)</pre></div></div></div></div></div>"
            ]
          },
          "metadata": {},
          "execution_count": 36
        }
      ]
    },
    {
      "cell_type": "code",
      "source": [
        "\n",
        "#scalling to all the data set\n",
        "scaler.transform(Raw_train1)\n",
        "scaler.transform(Raw_train2)\n",
        "scaler.transform(Raw_train3)\n",
        "scaler.transform(Raw_valid1)\n",
        "scaler.transform(Raw_valid2)"
      ],
      "metadata": {
        "colab": {
          "base_uri": "https://localhost:8080/"
        },
        "id": "h6gY6W3sIoEI",
        "outputId": "d3efb770-9161-4595-9f8c-581348c4e41d"
      },
      "execution_count": 37,
      "outputs": [
        {
          "output_type": "execute_result",
          "data": {
            "text/plain": [
              "array([[0.42555742, 0.39964689, 0.99738285, ..., 0.75481153, 0.76210169,\n",
              "        0.82026854],\n",
              "       [0.41896428, 0.38991044, 0.99750748, ..., 0.75563418, 0.76231516,\n",
              "        0.82080578],\n",
              "       [0.41800527, 0.38841784, 0.9976321 , ..., 0.754669  , 0.76193474,\n",
              "        0.82008548],\n",
              "       ...,\n",
              "       [0.57875809, 0.54511657, 0.99725823, ..., 0.89380259, 0.89759786,\n",
              "        0.89674315],\n",
              "       [0.57875809, 0.54483671, 0.99725823, ..., 0.89370257, 0.89714081,\n",
              "        0.89657601],\n",
              "       [0.57959722, 0.54537571, 0.9971336 , ..., 0.89321248, 0.8965907 ,\n",
              "        0.89621388]])"
            ]
          },
          "metadata": {},
          "execution_count": 37
        }
      ]
    },
    {
      "cell_type": "code",
      "source": [
        "print(Raw_train1.shape)"
      ],
      "metadata": {
        "colab": {
          "base_uri": "https://localhost:8080/"
        },
        "id": "7YtXSiQFIpuO",
        "outputId": "026ffcb2-485f-4f05-fce6-11db22f31462"
      },
      "execution_count": 38,
      "outputs": [
        {
          "output_type": "stream",
          "name": "stdout",
          "text": [
            "(44640, 63)\n"
          ]
        }
      ]
    },
    {
      "cell_type": "code",
      "source": [
        "#3-5. Data formatting for RNN input\n",
        "X_train1 = CNNDataPrep(Raw_train1[Longest_MH:], lookback)\n",
        "X_train2= CNNDataPrep(Raw_train2[Longest_MH:], lookback)\n",
        "X_train3= CNNDataPrep(Raw_train3[Longest_MH:], lookback)\n",
        "X_train = np.concatenate((X_train1, X_train2, X_train3), axis=0)#all the training data\n",
        "#Two verification data sets prepared in this trial.\n",
        "X_verify1 = CNNDataPrep(Raw_valid1[Longest_MH:], lookback)\n",
        "X_verify2 = CNNDataPrep(Raw_valid2[Longest_MH:], lookback)"
      ],
      "metadata": {
        "id": "xBQ_LeBWJdhQ"
      },
      "execution_count": 39,
      "outputs": []
    },
    {
      "cell_type": "code",
      "source": [
        "print(X_train1.shape)\n",
        "print(X_train2.shape)\n",
        "print(X_train3.shape)\n",
        "print(X_train.shape)"
      ],
      "metadata": {
        "colab": {
          "base_uri": "https://localhost:8080/"
        },
        "id": "dUazD5AnJlzg",
        "outputId": "4105339e-7457-4c1d-ae8f-5abb487d5fa8"
      },
      "execution_count": 40,
      "outputs": [
        {
          "output_type": "stream",
          "name": "stdout",
          "text": [
            "(44611, 30, 63, 1)\n",
            "(20131, 30, 63, 1)\n",
            "(63331, 30, 63, 1)\n",
            "(128073, 30, 63, 1)\n"
          ]
        }
      ]
    },
    {
      "cell_type": "code",
      "source": [
        "\n",
        "#3-6. Saving the training & verification data\n",
        "fpath = str(lookback)+'steps_UC2_CNN_R0'\n",
        "\n",
        "np.savez_compressed(fpath, \\\n",
        "                    X_train = X_train, \\\n",
        "                    X_verify1 = X_verify1, \\\n",
        "                    X_verify2 = X_verify2)\n",
        "\n",
        "#3-7. Saving the scaling information\n",
        "pickle.dump(scaler, open('CNNscaler'+str(lookback)+'-steps_R0.pcl', 'wb'))\n",
        "\n"
      ],
      "metadata": {
        "id": "y8ocmN-tMN58"
      },
      "execution_count": 41,
      "outputs": []
    },
    {
      "cell_type": "code",
      "source": [
        "!pip install tensorflow"
      ],
      "metadata": {
        "colab": {
          "base_uri": "https://localhost:8080/"
        },
        "id": "z5ppZ96bT-j8",
        "outputId": "1cb8ce4a-106e-49df-c932-5adc4d9e6a7e"
      },
      "execution_count": 42,
      "outputs": [
        {
          "output_type": "stream",
          "name": "stdout",
          "text": [
            "Requirement already satisfied: tensorflow in /usr/local/lib/python3.10/dist-packages (2.12.0)\n",
            "Requirement already satisfied: absl-py>=1.0.0 in /usr/local/lib/python3.10/dist-packages (from tensorflow) (1.4.0)\n",
            "Requirement already satisfied: astunparse>=1.6.0 in /usr/local/lib/python3.10/dist-packages (from tensorflow) (1.6.3)\n",
            "Requirement already satisfied: flatbuffers>=2.0 in /usr/local/lib/python3.10/dist-packages (from tensorflow) (23.5.26)\n",
            "Requirement already satisfied: gast<=0.4.0,>=0.2.1 in /usr/local/lib/python3.10/dist-packages (from tensorflow) (0.4.0)\n",
            "Requirement already satisfied: google-pasta>=0.1.1 in /usr/local/lib/python3.10/dist-packages (from tensorflow) (0.2.0)\n",
            "Requirement already satisfied: grpcio<2.0,>=1.24.3 in /usr/local/lib/python3.10/dist-packages (from tensorflow) (1.57.0)\n",
            "Requirement already satisfied: h5py>=2.9.0 in /usr/local/lib/python3.10/dist-packages (from tensorflow) (3.9.0)\n",
            "Requirement already satisfied: jax>=0.3.15 in /usr/local/lib/python3.10/dist-packages (from tensorflow) (0.3.25)\n",
            "Requirement already satisfied: keras<2.13,>=2.12.0 in /usr/local/lib/python3.10/dist-packages (from tensorflow) (2.12.0)\n",
            "Requirement already satisfied: libclang>=13.0.0 in /usr/local/lib/python3.10/dist-packages (from tensorflow) (16.0.6)\n",
            "Requirement already satisfied: numpy<1.24,>=1.22 in /usr/local/lib/python3.10/dist-packages (from tensorflow) (1.23.5)\n",
            "Requirement already satisfied: opt-einsum>=2.3.2 in /usr/local/lib/python3.10/dist-packages (from tensorflow) (3.3.0)\n",
            "Requirement already satisfied: packaging in /usr/local/lib/python3.10/dist-packages (from tensorflow) (23.1)\n",
            "Requirement already satisfied: protobuf!=4.21.0,!=4.21.1,!=4.21.2,!=4.21.3,!=4.21.4,!=4.21.5,<5.0.0dev,>=3.20.3 in /usr/local/lib/python3.10/dist-packages (from tensorflow) (3.20.3)\n",
            "Requirement already satisfied: setuptools in /usr/local/lib/python3.10/dist-packages (from tensorflow) (67.7.2)\n",
            "Requirement already satisfied: six>=1.12.0 in /usr/local/lib/python3.10/dist-packages (from tensorflow) (1.16.0)\n",
            "Requirement already satisfied: tensorboard<2.13,>=2.12 in /usr/local/lib/python3.10/dist-packages (from tensorflow) (2.12.0)\n",
            "Requirement already satisfied: tensorflow-estimator<2.13,>=2.12.0 in /usr/local/lib/python3.10/dist-packages (from tensorflow) (2.12.0)\n",
            "Requirement already satisfied: termcolor>=1.1.0 in /usr/local/lib/python3.10/dist-packages (from tensorflow) (2.3.0)\n",
            "Requirement already satisfied: typing-extensions>=3.6.6 in /usr/local/lib/python3.10/dist-packages (from tensorflow) (4.5.0)\n",
            "Requirement already satisfied: wrapt<1.15,>=1.11.0 in /usr/local/lib/python3.10/dist-packages (from tensorflow) (1.14.1)\n",
            "Requirement already satisfied: tensorflow-io-gcs-filesystem>=0.23.1 in /usr/local/lib/python3.10/dist-packages (from tensorflow) (0.33.0)\n",
            "Requirement already satisfied: wheel<1.0,>=0.23.0 in /usr/local/lib/python3.10/dist-packages (from astunparse>=1.6.0->tensorflow) (0.41.2)\n",
            "Requirement already satisfied: scipy>=1.5 in /usr/local/lib/python3.10/dist-packages (from jax>=0.3.15->tensorflow) (1.11.2)\n",
            "Requirement already satisfied: google-auth<3,>=1.6.3 in /usr/local/lib/python3.10/dist-packages (from tensorboard<2.13,>=2.12->tensorflow) (2.17.3)\n",
            "Requirement already satisfied: google-auth-oauthlib<0.5,>=0.4.1 in /usr/local/lib/python3.10/dist-packages (from tensorboard<2.13,>=2.12->tensorflow) (0.4.6)\n",
            "Requirement already satisfied: markdown>=2.6.8 in /usr/local/lib/python3.10/dist-packages (from tensorboard<2.13,>=2.12->tensorflow) (3.4.4)\n",
            "Requirement already satisfied: requests<3,>=2.21.0 in /usr/local/lib/python3.10/dist-packages (from tensorboard<2.13,>=2.12->tensorflow) (2.31.0)\n",
            "Requirement already satisfied: tensorboard-data-server<0.8.0,>=0.7.0 in /usr/local/lib/python3.10/dist-packages (from tensorboard<2.13,>=2.12->tensorflow) (0.7.1)\n",
            "Requirement already satisfied: tensorboard-plugin-wit>=1.6.0 in /usr/local/lib/python3.10/dist-packages (from tensorboard<2.13,>=2.12->tensorflow) (1.8.1)\n",
            "Requirement already satisfied: werkzeug>=1.0.1 in /usr/local/lib/python3.10/dist-packages (from tensorboard<2.13,>=2.12->tensorflow) (2.3.7)\n",
            "Requirement already satisfied: cachetools<6.0,>=2.0.0 in /usr/local/lib/python3.10/dist-packages (from google-auth<3,>=1.6.3->tensorboard<2.13,>=2.12->tensorflow) (5.3.1)\n",
            "Requirement already satisfied: pyasn1-modules>=0.2.1 in /usr/local/lib/python3.10/dist-packages (from google-auth<3,>=1.6.3->tensorboard<2.13,>=2.12->tensorflow) (0.3.0)\n",
            "Requirement already satisfied: rsa<5,>=3.1.4 in /usr/local/lib/python3.10/dist-packages (from google-auth<3,>=1.6.3->tensorboard<2.13,>=2.12->tensorflow) (4.9)\n",
            "Requirement already satisfied: requests-oauthlib>=0.7.0 in /usr/local/lib/python3.10/dist-packages (from google-auth-oauthlib<0.5,>=0.4.1->tensorboard<2.13,>=2.12->tensorflow) (1.3.1)\n",
            "Requirement already satisfied: charset-normalizer<4,>=2 in /usr/local/lib/python3.10/dist-packages (from requests<3,>=2.21.0->tensorboard<2.13,>=2.12->tensorflow) (3.2.0)\n",
            "Requirement already satisfied: idna<4,>=2.5 in /usr/local/lib/python3.10/dist-packages (from requests<3,>=2.21.0->tensorboard<2.13,>=2.12->tensorflow) (3.4)\n",
            "Requirement already satisfied: urllib3<3,>=1.21.1 in /usr/local/lib/python3.10/dist-packages (from requests<3,>=2.21.0->tensorboard<2.13,>=2.12->tensorflow) (2.0.4)\n",
            "Requirement already satisfied: certifi>=2017.4.17 in /usr/local/lib/python3.10/dist-packages (from requests<3,>=2.21.0->tensorboard<2.13,>=2.12->tensorflow) (2023.7.22)\n",
            "Requirement already satisfied: MarkupSafe>=2.1.1 in /usr/local/lib/python3.10/dist-packages (from werkzeug>=1.0.1->tensorboard<2.13,>=2.12->tensorflow) (2.1.3)\n",
            "Requirement already satisfied: pyasn1<0.6.0,>=0.4.6 in /usr/local/lib/python3.10/dist-packages (from pyasn1-modules>=0.2.1->google-auth<3,>=1.6.3->tensorboard<2.13,>=2.12->tensorflow) (0.5.0)\n",
            "Requirement already satisfied: oauthlib>=3.0.0 in /usr/local/lib/python3.10/dist-packages (from requests-oauthlib>=0.7.0->google-auth-oauthlib<0.5,>=0.4.1->tensorboard<2.13,>=2.12->tensorflow) (3.2.2)\n"
          ]
        }
      ]
    },
    {
      "cell_type": "code",
      "source": [
        "#1. Preparations\n",
        "import tensorflow\n",
        "import numpy as np\n",
        "import pandas as pd\n",
        "import pickle\n",
        "import sklearn\n",
        "import platform\n",
        "from sklearn.preprocessing import MinMaxScaler\n",
        "from tensorflow import keras\n",
        "from tensorflow.keras.layers import Conv2D, MaxPooling2D, AveragePooling2D, Dense\n",
        "from tensorflow.keras.layers import Dropout\n",
        "from tensorflow.keras.callbacks import EarlyStopping"
      ],
      "metadata": {
        "id": "Rc840n6oScBL"
      },
      "execution_count": 43,
      "outputs": []
    },
    {
      "cell_type": "code",
      "source": [
        "#show important packages/libraries version\n",
        "print(f\"Tensor Flow Version: {tensorflow.__version__}\")\n",
        "#print(f\"Keras Version: {keras.__version__}\")\n",
        "print(f\"Scikit-Learn {sklearn.__version__}\")\n",
        "print(f\"Python Version {platform.python_version()}\")"
      ],
      "metadata": {
        "colab": {
          "base_uri": "https://localhost:8080/"
        },
        "id": "SSQLtsIHShni",
        "outputId": "597e61f7-058e-4e31-b643-23cf86cd7d1e"
      },
      "execution_count": 44,
      "outputs": [
        {
          "output_type": "stream",
          "name": "stdout",
          "text": [
            "Tensor Flow Version: 2.12.0\n",
            "Scikit-Learn 1.2.2\n",
            "Python Version 3.10.12\n"
          ]
        }
      ]
    },
    {
      "cell_type": "code",
      "source": [],
      "metadata": {
        "id": "U6Flw0nx_Uxb"
      },
      "execution_count": 44,
      "outputs": []
    },
    {
      "cell_type": "code",
      "source": [
        "#definition of loss function (not used now)\n",
        "def last_time_step_mse(Y_true, Y_pred):\n",
        "    return keras.metrics.mean_squared_error(Y_true[:, -1], Y_pred[:, -1])\n"
      ],
      "metadata": {
        "id": "Y-XExkOnS0s0"
      },
      "execution_count": 45,
      "outputs": []
    },
    {
      "cell_type": "code",
      "source": [
        "\n",
        "#time-step of RNN input data (must be same as the data imported)\n",
        "time_steps = 30\n",
        "\n",
        "#CSVDataPath = 'C:/Users/CSEUser1/R&D_trials/2021-22/11_CNN/Data/'#Data path\n",
        "#ParamNames = pd.read_csv(CSVDataPath + 'Selected_Parameters_01.csv').values\n",
        "#data list import\n",
        "\n",
        "#Preparation for log conversion (not used now)\n",
        "Log_Conv_index = list()\n",
        "Log_Base_values = list()\n",
        "k = 0\n",
        "for (Target_Param, Max_hold_steps, Log_Convert, Log_base) in ParamNames:\n",
        "    if Log_Convert == 1:\n",
        "        Log_Conv_index.append(k)\n",
        "        Log_Base_values.append(Log_base)\n",
        "    k += 1"
      ],
      "metadata": {
        "id": "m6Tffo_WWtgb"
      },
      "execution_count": 46,
      "outputs": []
    },
    {
      "cell_type": "code",
      "source": [
        "#2. Data read and set\n",
        "\n",
        "#2-1. Data import\n",
        "\n",
        "fpath = str(time_steps)+'steps_UC2_CNN_R0.npz'\n",
        "\n",
        "npz1 = np.load(fpath)\n",
        "\n",
        "X_train = npz1['X_train']\n",
        "X_verify1 = npz1['X_verify1']\n",
        "X_verify2 = npz1['X_verify2']"
      ],
      "metadata": {
        "id": "Qy6E2eVAYMiD"
      },
      "execution_count": 47,
      "outputs": []
    },
    {
      "cell_type": "code",
      "source": [
        "#2-2. Data shuffling\n",
        "train_series = np.arange(len(X_train))\n",
        "train_series_rand = np.random.permutation(train_series)\n",
        "X_train2 = X_train[train_series_rand,:,:,:]\n",
        "Y_train = X_train[train_series_rand,-1,:,0]#select each final row in each sample to be a y,This line is extracting the targets or labels, Y_train, from the shuffled X_train. The specific indexing -1 indicates that you're selecting the last timestep of each sample. The indexing 0 suggests that you're picking the first feature or channel of that timestep. This is typical in some tasks like time-series forecasting, where one might want to predict the next value based on a sequence of previous values.\n"
      ],
      "metadata": {
        "id": "jMrPIGDSYxV8"
      },
      "execution_count": 48,
      "outputs": []
    },
    {
      "cell_type": "code",
      "source": [
        "#2-3. Data scaler import & application\n",
        "scaler = pickle.load(open('CNNscaler' + str(time_steps) + '-steps_R0.pcl', 'rb'))"
      ],
      "metadata": {
        "id": "18hBXMfZYzsC"
      },
      "execution_count": 49,
      "outputs": []
    },
    {
      "cell_type": "markdown",
      "source": [],
      "metadata": {
        "id": "hqjYu3xi417z"
      }
    },
    {
      "cell_type": "code",
      "source": [
        "#Inverse scaling\n",
        "#Applied on the last time-step \"[:,-1,:,0]\". Output is 2-D array.\n",
        "scaler.inverse_transform(X_train[:,-1,:,0])\n",
        "scaler.inverse_transform(X_verify1[:,-1,:,0])\n",
        "scaler.inverse_transform(X_verify2[:,-1,:,0])"
      ],
      "metadata": {
        "colab": {
          "base_uri": "https://localhost:8080/"
        },
        "id": "qjv_Kqv-bf17",
        "outputId": "3b717770-c066-4bd8-a20d-b44894e58c52"
      },
      "execution_count": 50,
      "outputs": [
        {
          "output_type": "execute_result",
          "data": {
            "text/plain": [
              "array([[ 171.75 ,  110.075, 3001.5  , ...,  304.18 ,  280.295,  206.8  ],\n",
              "       [ 171.55 ,  109.914, 3001.5  , ...,  304.507,  280.323,  206.856],\n",
              "       [ 170.8  ,  109.188, 3002.25 , ...,  304.442,  280.285,  206.942],\n",
              "       ...,\n",
              "       [ 237.35 ,  153.722, 3000.75 , ...,  357.454,  327.967,  225.339],\n",
              "       [ 237.35 ,  153.641, 3000.75 , ...,  357.414,  327.8  ,  225.297],\n",
              "       [ 237.7  ,  153.797, 3000.375, ...,  357.218,  327.599,  225.206]])"
            ]
          },
          "metadata": {},
          "execution_count": 50
        }
      ]
    },
    {
      "cell_type": "code",
      "source": [
        "df_Xtrain = pd.DataFrame(X_train[:,-1,:,0])\n",
        "df_Xverify1 = pd.DataFrame(X_verify1[:,-1,:,0])\n",
        "df_Xverify2 = pd.DataFrame(X_verify2[:,-1,:,0])\n"
      ],
      "metadata": {
        "id": "Yl-moF9kjZww"
      },
      "execution_count": 51,
      "outputs": []
    },
    {
      "cell_type": "code",
      "source": [
        "print(df_Xtrain)"
      ],
      "metadata": {
        "colab": {
          "base_uri": "https://localhost:8080/"
        },
        "id": "xPkbdcM3jntf",
        "outputId": "9b7b6dbc-5d86-49ed-c3c1-819be1d2eb59"
      },
      "execution_count": 52,
      "outputs": [
        {
          "output_type": "stream",
          "name": "stdout",
          "text": [
            "            0        1         2       3       4      5       6     7    8   \\\n",
            "0       180.80  113.964  2997.750  14.170  52.323  9.441  42.882  0.03  0.0   \n",
            "1       183.10  116.192  2997.750  14.137  52.516  9.457  43.058  0.02  0.0   \n",
            "2       181.55  114.510  2998.500  14.101  51.981  9.446  42.535  0.02  0.0   \n",
            "3       181.75  114.644  2998.125  14.092  52.214  9.454  42.761  0.00  0.0   \n",
            "4       181.60  114.529  2998.125  14.174  52.186  9.447  42.739  0.00  0.0   \n",
            "...        ...      ...       ...     ...     ...    ...     ...   ...  ...   \n",
            "128068   -0.40   -0.400     3.000  20.074  -5.000  0.000  -5.000  0.00  0.0   \n",
            "128069   -0.25   -0.250     3.000  20.103  -5.000  0.000  -5.000  0.00  0.0   \n",
            "128070   -0.35   -0.350     3.000  20.085  -5.000  0.000  -5.000  0.00  0.0   \n",
            "128071   -0.45   -0.450     3.000  20.091  -5.000  0.000  -5.000  0.00  0.0   \n",
            "128072   -0.30   -0.300     3.000  20.089  -5.000  0.000  -5.000  0.00  0.0   \n",
            "\n",
            "             9   ...     53       54       55       56       57       58  \\\n",
            "0        38.715  ...  1.183  241.777  244.784  333.227  338.046  346.511   \n",
            "1        38.824  ...  1.180  242.295  245.251  333.236  338.172  346.369   \n",
            "2        39.188  ...  1.180  242.289  245.374  333.071  337.932  346.088   \n",
            "3        39.745  ...  1.180  242.648  245.635  332.986  337.860  345.756   \n",
            "4        39.421  ...  1.176  242.825  245.834  332.997  337.876  345.592   \n",
            "...         ...  ...    ...      ...      ...      ...      ...      ...   \n",
            "128068  100.000  ...  1.914  156.186  158.740  146.879  145.041  159.894   \n",
            "128069  100.000  ...  1.915  156.099  158.636  146.604  144.740  159.816   \n",
            "128070  100.000  ...  1.915  155.953  158.570  146.412  144.550  159.702   \n",
            "128071  100.000  ...  1.915  155.890  158.460  146.305  144.406  159.677   \n",
            "128072  100.000  ...  1.915  155.701  158.344  146.379  144.541  159.540   \n",
            "\n",
            "             59       60       61       62  \n",
            "0       351.620  327.619  298.630  219.394  \n",
            "1       351.452  327.343  298.495  219.267  \n",
            "2       351.208  327.179  298.408  218.996  \n",
            "3       350.868  326.748  298.316  218.407  \n",
            "4       350.841  326.284  297.991  218.274  \n",
            "...         ...      ...      ...      ...  \n",
            "128068  163.037  161.043  153.308  124.309  \n",
            "128069  162.895  160.950  153.199  124.175  \n",
            "128070  162.811  160.830  153.063  124.200  \n",
            "128071  162.717  160.710  152.935  124.283  \n",
            "128072  162.608  160.625  152.830  124.137  \n",
            "\n",
            "[128073 rows x 63 columns]\n"
          ]
        }
      ]
    },
    {
      "cell_type": "code",
      "source": [
        "\n",
        "#Saving input data\n",
        "df_Xtrain.to_csv('CNN_train.csv')\n",
        "df_Xverify1.to_csv('CNN_verify1.csv')\n",
        "df_Xverify2.to_csv('CNN_verify2.csv')\n",
        "\n",
        "Output_name = 'CNN_out_' + str(time_steps) + 'steps.csv'\n",
        "#df_node_num = pd.DataFrame({'Nodes': ['1st', '2nd', '3rd', '4th', 'LR']})\n"
      ],
      "metadata": {
        "id": "mDKXHsr6jbRe"
      },
      "execution_count": 53,
      "outputs": []
    },
    {
      "cell_type": "code",
      "source": [
        "#3. CNN preparation\n",
        "\n",
        "epochs = 100\n",
        "batch_size = 128\n",
        "\n",
        "early_stopping = EarlyStopping(monitor = 'loss', min_delta=0, patience=20)\n",
        "DO_rate = 0.1\n",
        "\n",
        "LR = 0.0005\n",
        "\n",
        "#for node_num in GRU_nodes:\n",
        "\n",
        "#print(node_num)\n",
        "\n",
        "optimiser = keras.optimizers.Adam(LR)\n",
        "\n",
        "model_CNN = keras.models.Sequential([\n",
        "    Conv2D(64,5,activation='relu', padding='same',\\\n",
        "           input_shape=[time_steps,len(ParamNames),1]),\n",
        "    MaxPooling2D(2),\n",
        "    Conv2D(128,3,activation='relu',padding='same'),\n",
        "    Conv2D(128, 3, activation='relu', padding='same'),\n",
        "    MaxPooling2D(2),\n",
        "    Conv2D(256, 3, activation='relu', padding='same'),\n",
        "    Conv2D(256, 3, activation='relu', padding='same'),\n",
        "    MaxPooling2D(2),\n",
        "    keras.layers.Flatten(),\n",
        "    Dense(128, activation='relu'),\n",
        "    Dropout(DO_rate),\n",
        "    Dense(80, activation='relu'),\n",
        "    Dropout(DO_rate),\n",
        "    Dense(63, activation = 'linear')])"
      ],
      "metadata": {
        "id": "nNQjokiOkHg0"
      },
      "execution_count": 54,
      "outputs": []
    },
    {
      "cell_type": "code",
      "source": [
        "import tensorflow\n",
        "#Use to recoord training time\n",
        "import time\n",
        "class TimingCallback(tensorflow.keras.callbacks.Callback):\n",
        "    def on_train_begin(self, logs=None):\n",
        "        self.start_time = time.time()\n",
        "\n",
        "    def on_train_end(self, logs=None):\n",
        "        self.end_time = time.time()\n",
        "        self.total_time = self.end_time - self.start_time\n",
        "        print(f\"Total training time: {self.total_time:.2f} seconds\")"
      ],
      "metadata": {
        "id": "h4jDH5U92a8w"
      },
      "execution_count": 55,
      "outputs": []
    },
    {
      "cell_type": "code",
      "source": [
        "#evaluates the model on both the training and testing data and prints the corresponding accuracy scores and loss.\n",
        "def evaluate_model(model, x_train, y_train, x_test, y_test,name=str):\n",
        "    tr_loss, tr_accuracy = model.evaluate(x_train, y_train)\n",
        "    ts_loss, ts_accuracy = model.evaluate(x_test, y_test)\n",
        "    print(name)\n",
        "    print(\"Training set Loss on model: {:2f}\".format(tr_loss))\n",
        "    print(\"Testing set Loss on model: {:2f}\".format(ts_loss))\n",
        "    print(\"Training set Accuracy on model: {:2f}\".format(tr_accuracy))\n",
        "    print(\"Testing set Accuracy on model: {:2f}\".format(ts_accuracy))\n",
        "\n",
        "#Print the accuracy and loss of the training and testing sets for the mlp_baseline\n",
        "#evaluate_model(mlp_baseline,x_train, y_train, x_test, y_test,'mlp_baseline')"
      ],
      "metadata": {
        "id": "YnAm6vQ92gqP"
      },
      "execution_count": 56,
      "outputs": []
    },
    {
      "cell_type": "code",
      "source": [
        "#Plot the loss function  and accuracy graph respect to the iteration/epoch\n",
        "import matplotlib.pyplot as plt\n",
        "\n",
        "def plot_loss_and_accuracy(model,network):\n",
        "    loss = model.history[\"loss\"]\n",
        "    val_loss = model.history[\"val_loss\"]\n",
        "    epochs = range(1, len(loss) + 1)\n",
        "\n",
        "    plt.plot(epochs, loss, \"b-\", label=\"Training Loss\")\n",
        "    plt.plot(epochs, val_loss, \"r--\", label=\"Validation Loss\")\n",
        "    plt.title(f\"{network}'s Training and Validation Loss\")\n",
        "    plt.xlabel(\"Epochs\")\n",
        "    plt.ylabel(\"Loss\")\n",
        "    plt.legend()\n",
        "    plt.show()\n",
        "\n",
        "    acc = model.history[\"accuracy\"]\n",
        "    val_acc = model.history[\"val_accuracy\"]\n",
        "    plt.plot(epochs, acc, \"b-\", label=\"Training Accuracy\")\n",
        "    plt.plot(epochs, val_acc, \"r--\", label=\"Validation Accuracy\")\n",
        "    plt.title(f\"{network}'s Training and Validation Accuracy\")\n",
        "    plt.xlabel(\"Epochs\")\n",
        "    plt.ylabel(\"Accuracy\")\n",
        "    plt.legend()\n",
        "    plt.show()\n",
        "#plot_loss_and_accuracy(mlp_baseline_model,\"MLP\")"
      ],
      "metadata": {
        "id": "NRl9EpJ92iLA"
      },
      "execution_count": 57,
      "outputs": []
    },
    {
      "cell_type": "code",
      "source": [
        "from tensorflow.keras.utils import plot_model\n",
        "\n",
        "from IPython.display import Image\n",
        "plot_model(model_CNN,to_file='CNNBASE.png')\n",
        "Image('CNNBASE.png')"
      ],
      "metadata": {
        "colab": {
          "base_uri": "https://localhost:8080/",
          "height": 1000
        },
        "id": "jjhyWe8Akg4F",
        "outputId": "635bb242-99b0-444e-de99-46c3c6bcf413"
      },
      "execution_count": 58,
      "outputs": [
        {
          "output_type": "execute_result",
          "data": {
            "image/png": "[encoded data removed]",
            "text/plain": [
              "<IPython.core.display.Image object>"
            ]
          },
          "metadata": {},
          "execution_count": 58
        }
      ]
    },
    {
      "cell_type": "code",
      "source": [
        "model_CNN.compile(optimizer=optimiser, loss = 'mse', \\\n",
        "              metrics = 'mse')\n",
        "\n",
        "print(model_CNN.summary())\n",
        "\n",
        "model_CNN.fit(X_train2, Y_train, epochs=epochs, batch_size=batch_size,\n",
        "          callbacks = [early_stopping,TimingCallback()])\n"
      ],
      "metadata": {
        "colab": {
          "base_uri": "https://localhost:8080/",
          "height": 1000
        },
        "id": "3zip5c6KlD9w",
        "outputId": "647c2633-eb67-4098-d225-f6f4f0df65fb"
      },
      "execution_count": 59,
      "outputs": [
        {
          "output_type": "stream",
          "name": "stdout",
          "text": [
            "Model: \"sequential\"\n",
            "_________________________________________________________________\n",
            " Layer (type)                Output Shape              Param #   \n",
            "=================================================================\n",
            " conv2d (Conv2D)             (None, 30, 63, 64)        1664      \n",
            "                                                                 \n",
            " max_pooling2d (MaxPooling2D  (None, 15, 31, 64)       0         \n",
            " )                                                               \n",
            "                                                                 \n",
            " conv2d_1 (Conv2D)           (None, 15, 31, 128)       73856     \n",
            "                                                                 \n",
            " conv2d_2 (Conv2D)           (None, 15, 31, 128)       147584    \n",
            "                                                                 \n",
            " max_pooling2d_1 (MaxPooling  (None, 7, 15, 128)       0         \n",
            " 2D)                                                             \n",
            "                                                                 \n",
            " conv2d_3 (Conv2D)           (None, 7, 15, 256)        295168    \n",
            "                                                                 \n",
            " conv2d_4 (Conv2D)           (None, 7, 15, 256)        590080    \n",
            "                                                                 \n",
            " max_pooling2d_2 (MaxPooling  (None, 3, 7, 256)        0         \n",
            " 2D)                                                             \n",
            "                                                                 \n",
            " flatten (Flatten)           (None, 5376)              0         \n",
            "                                                                 \n",
            " dense (Dense)               (None, 128)               688256    \n",
            "                                                                 \n",
            " dropout (Dropout)           (None, 128)               0         \n",
            "                                                                 \n",
            " dense_1 (Dense)             (None, 80)                10320     \n",
            "                                                                 \n",
            " dropout_1 (Dropout)         (None, 80)                0         \n",
            "                                                                 \n",
            " dense_2 (Dense)             (None, 63)                5103      \n",
            "                                                                 \n",
            "=================================================================\n",
            "Total params: 1,812,031\n",
            "Trainable params: 1,812,031\n",
            "Non-trainable params: 0\n",
            "_________________________________________________________________\n",
            "None\n",
            "Epoch 1/100\n",
            "  11/1001 [..............................] - ETA: 1:21:46 - loss: 0.4007 - mse: 0.4007"
          ]
        },
        {
          "output_type": "error",
          "ename": "KeyboardInterrupt",
          "evalue": "ignored",
          "traceback": [
            "\u001b[0;31m---------------------------------------------------------------------------\u001b[0m",
            "\u001b[0;31mKeyboardInterrupt\u001b[0m                         Traceback (most recent call last)",
            "\u001b[0;32m<ipython-input-59-7f6cdb8e10b7>\u001b[0m in \u001b[0;36m<cell line: 6>\u001b[0;34m()\u001b[0m\n\u001b[1;32m      4\u001b[0m \u001b[0mprint\u001b[0m\u001b[0;34m(\u001b[0m\u001b[0mmodel_CNN\u001b[0m\u001b[0;34m.\u001b[0m\u001b[0msummary\u001b[0m\u001b[0;34m(\u001b[0m\u001b[0;34m)\u001b[0m\u001b[0;34m)\u001b[0m\u001b[0;34m\u001b[0m\u001b[0;34m\u001b[0m\u001b[0m\n\u001b[1;32m      5\u001b[0m \u001b[0;34m\u001b[0m\u001b[0m\n\u001b[0;32m----> 6\u001b[0;31m model_CNN.fit(X_train2, Y_train, epochs=epochs, batch_size=batch_size,\n\u001b[0m\u001b[1;32m      7\u001b[0m           callbacks = [early_stopping,TimingCallback()])\n",
            "\u001b[0;32m/usr/local/lib/python3.10/dist-packages/keras/utils/traceback_utils.py\u001b[0m in \u001b[0;36merror_handler\u001b[0;34m(*args, **kwargs)\u001b[0m\n\u001b[1;32m     63\u001b[0m         \u001b[0mfiltered_tb\u001b[0m \u001b[0;34m=\u001b[0m \u001b[0;32mNone\u001b[0m\u001b[0;34m\u001b[0m\u001b[0;34m\u001b[0m\u001b[0m\n\u001b[1;32m     64\u001b[0m         \u001b[0;32mtry\u001b[0m\u001b[0;34m:\u001b[0m\u001b[0;34m\u001b[0m\u001b[0;34m\u001b[0m\u001b[0m\n\u001b[0;32m---> 65\u001b[0;31m             \u001b[0;32mreturn\u001b[0m \u001b[0mfn\u001b[0m\u001b[0;34m(\u001b[0m\u001b[0;34m*\u001b[0m\u001b[0margs\u001b[0m\u001b[0;34m,\u001b[0m \u001b[0;34m**\u001b[0m\u001b[0mkwargs\u001b[0m\u001b[0;34m)\u001b[0m\u001b[0;34m\u001b[0m\u001b[0;34m\u001b[0m\u001b[0m\n\u001b[0m\u001b[1;32m     66\u001b[0m         \u001b[0;32mexcept\u001b[0m \u001b[0mException\u001b[0m \u001b[0;32mas\u001b[0m \u001b[0me\u001b[0m\u001b[0;34m:\u001b[0m\u001b[0;34m\u001b[0m\u001b[0;34m\u001b[0m\u001b[0m\n\u001b[1;32m     67\u001b[0m             \u001b[0mfiltered_tb\u001b[0m \u001b[0;34m=\u001b[0m \u001b[0m_process_traceback_frames\u001b[0m\u001b[0;34m(\u001b[0m\u001b[0me\u001b[0m\u001b[0;34m.\u001b[0m\u001b[0m__traceback__\u001b[0m\u001b[0;34m)\u001b[0m\u001b[0;34m\u001b[0m\u001b[0;34m\u001b[0m\u001b[0m\n",
            "\u001b[0;32m/usr/local/lib/python3.10/dist-packages/keras/engine/training.py\u001b[0m in \u001b[0;36mfit\u001b[0;34m(self, x, y, batch_size, epochs, verbose, callbacks, validation_split, validation_data, shuffle, class_weight, sample_weight, initial_epoch, steps_per_epoch, validation_steps, validation_batch_size, validation_freq, max_queue_size, workers, use_multiprocessing)\u001b[0m\n\u001b[1;32m   1683\u001b[0m                         ):\n\u001b[1;32m   1684\u001b[0m                             \u001b[0mcallbacks\u001b[0m\u001b[0;34m.\u001b[0m\u001b[0mon_train_batch_begin\u001b[0m\u001b[0;34m(\u001b[0m\u001b[0mstep\u001b[0m\u001b[0;34m)\u001b[0m\u001b[0;34m\u001b[0m\u001b[0;34m\u001b[0m\u001b[0m\n\u001b[0;32m-> 1685\u001b[0;31m                             \u001b[0mtmp_logs\u001b[0m \u001b[0;34m=\u001b[0m \u001b[0mself\u001b[0m\u001b[0;34m.\u001b[0m\u001b[0mtrain_function\u001b[0m\u001b[0;34m(\u001b[0m\u001b[0miterator\u001b[0m\u001b[0;34m)\u001b[0m\u001b[0;34m\u001b[0m\u001b[0;34m\u001b[0m\u001b[0m\n\u001b[0m\u001b[1;32m   1686\u001b[0m                             \u001b[0;32mif\u001b[0m \u001b[0mdata_handler\u001b[0m\u001b[0;34m.\u001b[0m\u001b[0mshould_sync\u001b[0m\u001b[0;34m:\u001b[0m\u001b[0;34m\u001b[0m\u001b[0;34m\u001b[0m\u001b[0m\n\u001b[1;32m   1687\u001b[0m                                 \u001b[0mcontext\u001b[0m\u001b[0;34m.\u001b[0m\u001b[0masync_wait\u001b[0m\u001b[0;34m(\u001b[0m\u001b[0;34m)\u001b[0m\u001b[0;34m\u001b[0m\u001b[0;34m\u001b[0m\u001b[0m\n",
            "\u001b[0;32m/usr/local/lib/python3.10/dist-packages/tensorflow/python/util/traceback_utils.py\u001b[0m in \u001b[0;36merror_handler\u001b[0;34m(*args, **kwargs)\u001b[0m\n\u001b[1;32m    148\u001b[0m     \u001b[0mfiltered_tb\u001b[0m \u001b[0;34m=\u001b[0m \u001b[0;32mNone\u001b[0m\u001b[0;34m\u001b[0m\u001b[0;34m\u001b[0m\u001b[0m\n\u001b[1;32m    149\u001b[0m     \u001b[0;32mtry\u001b[0m\u001b[0;34m:\u001b[0m\u001b[0;34m\u001b[0m\u001b[0;34m\u001b[0m\u001b[0m\n\u001b[0;32m--> 150\u001b[0;31m       \u001b[0;32mreturn\u001b[0m \u001b[0mfn\u001b[0m\u001b[0;34m(\u001b[0m\u001b[0;34m*\u001b[0m\u001b[0margs\u001b[0m\u001b[0;34m,\u001b[0m \u001b[0;34m**\u001b[0m\u001b[0mkwargs\u001b[0m\u001b[0;34m)\u001b[0m\u001b[0;34m\u001b[0m\u001b[0;34m\u001b[0m\u001b[0m\n\u001b[0m\u001b[1;32m    151\u001b[0m     \u001b[0;32mexcept\u001b[0m \u001b[0mException\u001b[0m \u001b[0;32mas\u001b[0m \u001b[0me\u001b[0m\u001b[0;34m:\u001b[0m\u001b[0;34m\u001b[0m\u001b[0;34m\u001b[0m\u001b[0m\n\u001b[1;32m    152\u001b[0m       \u001b[0mfiltered_tb\u001b[0m \u001b[0;34m=\u001b[0m \u001b[0m_process_traceback_frames\u001b[0m\u001b[0;34m(\u001b[0m\u001b[0me\u001b[0m\u001b[0;34m.\u001b[0m\u001b[0m__traceback__\u001b[0m\u001b[0;34m)\u001b[0m\u001b[0;34m\u001b[0m\u001b[0;34m\u001b[0m\u001b[0m\n",
            "\u001b[0;32m/usr/local/lib/python3.10/dist-packages/tensorflow/python/eager/polymorphic_function/polymorphic_function.py\u001b[0m in \u001b[0;36m__call__\u001b[0;34m(self, *args, **kwds)\u001b[0m\n\u001b[1;32m    892\u001b[0m \u001b[0;34m\u001b[0m\u001b[0m\n\u001b[1;32m    893\u001b[0m       \u001b[0;32mwith\u001b[0m \u001b[0mOptionalXlaContext\u001b[0m\u001b[0;34m(\u001b[0m\u001b[0mself\u001b[0m\u001b[0;34m.\u001b[0m\u001b[0m_jit_compile\u001b[0m\u001b[0;34m)\u001b[0m\u001b[0;34m:\u001b[0m\u001b[0;34m\u001b[0m\u001b[0;34m\u001b[0m\u001b[0m\n\u001b[0;32m--> 894\u001b[0;31m         \u001b[0mresult\u001b[0m \u001b[0;34m=\u001b[0m \u001b[0mself\u001b[0m\u001b[0;34m.\u001b[0m\u001b[0m_call\u001b[0m\u001b[0;34m(\u001b[0m\u001b[0;34m*\u001b[0m\u001b[0margs\u001b[0m\u001b[0;34m,\u001b[0m \u001b[0;34m**\u001b[0m\u001b[0mkwds\u001b[0m\u001b[0;34m)\u001b[0m\u001b[0;34m\u001b[0m\u001b[0;34m\u001b[0m\u001b[0m\n\u001b[0m\u001b[1;32m    895\u001b[0m \u001b[0;34m\u001b[0m\u001b[0m\n\u001b[1;32m    896\u001b[0m       \u001b[0mnew_tracing_count\u001b[0m \u001b[0;34m=\u001b[0m \u001b[0mself\u001b[0m\u001b[0;34m.\u001b[0m\u001b[0mexperimental_get_tracing_count\u001b[0m\u001b[0;34m(\u001b[0m\u001b[0;34m)\u001b[0m\u001b[0;34m\u001b[0m\u001b[0;34m\u001b[0m\u001b[0m\n",
            "\u001b[0;32m/usr/local/lib/python3.10/dist-packages/tensorflow/python/eager/polymorphic_function/polymorphic_function.py\u001b[0m in \u001b[0;36m_call\u001b[0;34m(self, *args, **kwds)\u001b[0m\n\u001b[1;32m    924\u001b[0m       \u001b[0;31m# In this case we have created variables on the first call, so we run the\u001b[0m\u001b[0;34m\u001b[0m\u001b[0;34m\u001b[0m\u001b[0m\n\u001b[1;32m    925\u001b[0m       \u001b[0;31m# defunned version which is guaranteed to never create variables.\u001b[0m\u001b[0;34m\u001b[0m\u001b[0;34m\u001b[0m\u001b[0m\n\u001b[0;32m--> 926\u001b[0;31m       \u001b[0;32mreturn\u001b[0m \u001b[0mself\u001b[0m\u001b[0;34m.\u001b[0m\u001b[0m_no_variable_creation_fn\u001b[0m\u001b[0;34m(\u001b[0m\u001b[0;34m*\u001b[0m\u001b[0margs\u001b[0m\u001b[0;34m,\u001b[0m \u001b[0;34m**\u001b[0m\u001b[0mkwds\u001b[0m\u001b[0;34m)\u001b[0m  \u001b[0;31m# pylint: disable=not-callable\u001b[0m\u001b[0;34m\u001b[0m\u001b[0;34m\u001b[0m\u001b[0m\n\u001b[0m\u001b[1;32m    927\u001b[0m     \u001b[0;32melif\u001b[0m \u001b[0mself\u001b[0m\u001b[0;34m.\u001b[0m\u001b[0m_variable_creation_fn\u001b[0m \u001b[0;32mis\u001b[0m \u001b[0;32mnot\u001b[0m \u001b[0;32mNone\u001b[0m\u001b[0;34m:\u001b[0m\u001b[0;34m\u001b[0m\u001b[0;34m\u001b[0m\u001b[0m\n\u001b[1;32m    928\u001b[0m       \u001b[0;31m# Release the lock early so that multiple threads can perform the call\u001b[0m\u001b[0;34m\u001b[0m\u001b[0;34m\u001b[0m\u001b[0m\n",
            "\u001b[0;32m/usr/local/lib/python3.10/dist-packages/tensorflow/python/eager/polymorphic_function/tracing_compiler.py\u001b[0m in \u001b[0;36m__call__\u001b[0;34m(self, *args, **kwargs)\u001b[0m\n\u001b[1;32m    141\u001b[0m       (concrete_function,\n\u001b[1;32m    142\u001b[0m        filtered_flat_args) = self._maybe_define_function(args, kwargs)\n\u001b[0;32m--> 143\u001b[0;31m     return concrete_function._call_flat(\n\u001b[0m\u001b[1;32m    144\u001b[0m         filtered_flat_args, captured_inputs=concrete_function.captured_inputs)  # pylint: disable=protected-access\n\u001b[1;32m    145\u001b[0m \u001b[0;34m\u001b[0m\u001b[0m\n",
            "\u001b[0;32m/usr/local/lib/python3.10/dist-packages/tensorflow/python/eager/polymorphic_function/monomorphic_function.py\u001b[0m in \u001b[0;36m_call_flat\u001b[0;34m(self, args, captured_inputs, cancellation_manager)\u001b[0m\n\u001b[1;32m   1755\u001b[0m         and executing_eagerly):\n\u001b[1;32m   1756\u001b[0m       \u001b[0;31m# No tape is watching; skip to running the function.\u001b[0m\u001b[0;34m\u001b[0m\u001b[0;34m\u001b[0m\u001b[0m\n\u001b[0;32m-> 1757\u001b[0;31m       return self._build_call_outputs(self._inference_function.call(\n\u001b[0m\u001b[1;32m   1758\u001b[0m           ctx, args, cancellation_manager=cancellation_manager))\n\u001b[1;32m   1759\u001b[0m     forward_backward = self._select_forward_and_backward_functions(\n",
            "\u001b[0;32m/usr/local/lib/python3.10/dist-packages/tensorflow/python/eager/polymorphic_function/monomorphic_function.py\u001b[0m in \u001b[0;36mcall\u001b[0;34m(self, ctx, args, cancellation_manager)\u001b[0m\n\u001b[1;32m    379\u001b[0m       \u001b[0;32mwith\u001b[0m \u001b[0m_InterpolateFunctionError\u001b[0m\u001b[0;34m(\u001b[0m\u001b[0mself\u001b[0m\u001b[0;34m)\u001b[0m\u001b[0;34m:\u001b[0m\u001b[0;34m\u001b[0m\u001b[0;34m\u001b[0m\u001b[0m\n\u001b[1;32m    380\u001b[0m         \u001b[0;32mif\u001b[0m \u001b[0mcancellation_manager\u001b[0m \u001b[0;32mis\u001b[0m \u001b[0;32mNone\u001b[0m\u001b[0;34m:\u001b[0m\u001b[0;34m\u001b[0m\u001b[0;34m\u001b[0m\u001b[0m\n\u001b[0;32m--> 381\u001b[0;31m           outputs = execute.execute(\n\u001b[0m\u001b[1;32m    382\u001b[0m               \u001b[0mstr\u001b[0m\u001b[0;34m(\u001b[0m\u001b[0mself\u001b[0m\u001b[0;34m.\u001b[0m\u001b[0msignature\u001b[0m\u001b[0;34m.\u001b[0m\u001b[0mname\u001b[0m\u001b[0;34m)\u001b[0m\u001b[0;34m,\u001b[0m\u001b[0;34m\u001b[0m\u001b[0;34m\u001b[0m\u001b[0m\n\u001b[1;32m    383\u001b[0m               \u001b[0mnum_outputs\u001b[0m\u001b[0;34m=\u001b[0m\u001b[0mself\u001b[0m\u001b[0;34m.\u001b[0m\u001b[0m_num_outputs\u001b[0m\u001b[0;34m,\u001b[0m\u001b[0;34m\u001b[0m\u001b[0;34m\u001b[0m\u001b[0m\n",
            "\u001b[0;32m/usr/local/lib/python3.10/dist-packages/tensorflow/python/eager/execute.py\u001b[0m in \u001b[0;36mquick_execute\u001b[0;34m(op_name, num_outputs, inputs, attrs, ctx, name)\u001b[0m\n\u001b[1;32m     50\u001b[0m   \u001b[0;32mtry\u001b[0m\u001b[0;34m:\u001b[0m\u001b[0;34m\u001b[0m\u001b[0;34m\u001b[0m\u001b[0m\n\u001b[1;32m     51\u001b[0m     \u001b[0mctx\u001b[0m\u001b[0;34m.\u001b[0m\u001b[0mensure_initialized\u001b[0m\u001b[0;34m(\u001b[0m\u001b[0;34m)\u001b[0m\u001b[0;34m\u001b[0m\u001b[0;34m\u001b[0m\u001b[0m\n\u001b[0;32m---> 52\u001b[0;31m     tensors = pywrap_tfe.TFE_Py_Execute(ctx._handle, device_name, op_name,\n\u001b[0m\u001b[1;32m     53\u001b[0m                                         inputs, attrs, num_outputs)\n\u001b[1;32m     54\u001b[0m   \u001b[0;32mexcept\u001b[0m \u001b[0mcore\u001b[0m\u001b[0;34m.\u001b[0m\u001b[0m_NotOkStatusException\u001b[0m \u001b[0;32mas\u001b[0m \u001b[0me\u001b[0m\u001b[0;34m:\u001b[0m\u001b[0;34m\u001b[0m\u001b[0;34m\u001b[0m\u001b[0m\n",
            "\u001b[0;31mKeyboardInterrupt\u001b[0m: "
          ]
        }
      ]
    },
    {
      "cell_type": "code",
      "source": [],
      "metadata": {
        "id": "NSVzAyPM32qk"
      },
      "execution_count": null,
      "outputs": []
    }
  ]
}