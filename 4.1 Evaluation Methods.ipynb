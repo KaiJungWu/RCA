{
 "cells": [
  {
   "attachments": {},
   "cell_type": "markdown",
   "metadata": {
    "id": "0IrBARV9PyDk"
   },
   "source": [
    "# COMP534 Lab session 4\n",
    "In this session, we would like to introduce some metrics for model evaluation firstly. Then we will show how to build neural networks (NNs) model based on [PyTorch](https://pytorch.org/). You also can use other frameworks, like [tensorflow](https://www.tensorflow.org/) or [keras](https://keras.io/). At last, we will show a classification example using Pytorch."
   ]
  },
  {
   "cell_type": "code",
   "execution_count": null,
   "metadata": {
    "id": "6DJPs8buOZr8"
   },
   "outputs": [],
   "source": [
    "%matplotlib inline"
   ]
  },
  {
   "cell_type": "markdown",
   "metadata": {
    "id": "V63-fpJFOZr_"
   },
   "source": [
    "\n",
    "# Visualizations with Display Objects\n",
    "\n",
    ".. currentmodule:: sklearn.metrics\n",
    "\n",
    "In this example, we will construct display objects,\n",
    ":class:`ConfusionMatrixDisplay`, :class:`RocCurveDisplay`, and\n",
    ":class:`PrecisionRecallDisplay` directly from their respective metrics. This\n",
    "is an alternative to using their corresponding plot functions when\n",
    "a model's predictions are already computed or expensive to compute. Note that\n",
    "this is advanced usage, and in general we recommend using their respective\n",
    "plot functions.\n"
   ]
  },
  {
   "cell_type": "markdown",
   "metadata": {
    "id": "7S-lEmb2OZsB"
   },
   "source": [
    "## Load Data and train model\n",
    "For this example, we load a blood transfusion service center data set from\n",
    "`OpenML <https://www.openml.org/d/1464>`. This is a binary classification\n",
    "problem where the target is whether an individual donated blood. Then the\n",
    "data is split into a train and test dataset and a logistic regression is\n",
    "fitted with the train dataset.\n",
    "\n"
   ]
  },
  {
   "cell_type": "code",
   "execution_count": null,
   "metadata": {
    "colab": {
     "base_uri": "https://localhost:8080/"
    },
    "executionInfo": {
     "elapsed": 16212,
     "status": "ok",
     "timestamp": 1677766940577,
     "user": {
      "displayName": "陈振",
      "userId": "06999655275882771177"
     },
     "user_tz": 0
    },
    "id": "yS6m_vy-OZsC",
    "outputId": "b3545e37-fd4c-4e50-ff60-08e3d01db759"
   },
   "outputs": [],
   "source": [
    "from sklearn.datasets import fetch_openml\n",
    "from sklearn.preprocessing import StandardScaler\n",
    "from sklearn.pipeline import make_pipeline\n",
    "from sklearn.linear_model import LogisticRegression\n",
    "from sklearn.model_selection import train_test_split\n",
    "\n",
    "X, y = fetch_openml(data_id=1464, return_X_y=True)\n",
    "X_train, X_test, y_train, y_test = train_test_split(X, y, stratify=y)\n",
    "\n",
    "clf = make_pipeline(StandardScaler(), LogisticRegression(random_state=0))\n",
    "clf.fit(X_train, y_train)"
   ]
  },
  {
   "cell_type": "markdown",
   "metadata": {
    "id": "obHfKYCzOZsD"
   },
   "source": [
    "### Create :class:`ConfusionMatrixDisplay`\n",
    " With the fitted model, we compute the predictions of the model on the test\n",
    " dataset. These predictions are used to compute the confustion matrix which\n",
    " is plotted with the :class:`ConfusionMatrixDisplay`\n",
    "\n"
   ]
  },
  {
   "cell_type": "code",
   "execution_count": null,
   "metadata": {
    "colab": {
     "base_uri": "https://localhost:8080/",
     "height": 279
    },
    "executionInfo": {
     "elapsed": 874,
     "status": "ok",
     "timestamp": 1677766943860,
     "user": {
      "displayName": "陈振",
      "userId": "06999655275882771177"
     },
     "user_tz": 0
    },
    "id": "4s8j_ZDOOZsD",
    "outputId": "786efa31-efc2-456c-d7f0-41ee5b5bcf7d"
   },
   "outputs": [],
   "source": [
    "from sklearn.metrics import confusion_matrix\n",
    "from sklearn.metrics import ConfusionMatrixDisplay\n",
    "\n",
    "y_pred = clf.predict(X_test)\n",
    "cm = confusion_matrix(y_test, y_pred)\n",
    "\n",
    "cm_display = ConfusionMatrixDisplay(cm).plot()"
   ]
  },
  {
   "cell_type": "markdown",
   "metadata": {
    "id": "T-9nMob8OZsE"
   },
   "source": [
    "### Create :class:`RocCurveDisplay`\n",
    " The roc curve requires either the probabilities or the non-thresholded\n",
    " decision values from the estimator. Since the logistic regression provides\n",
    " a decision function, we will use it to plot the roc curve:\n",
    "\n"
   ]
  },
  {
   "cell_type": "code",
   "execution_count": null,
   "metadata": {
    "colab": {
     "base_uri": "https://localhost:8080/",
     "height": 279
    },
    "executionInfo": {
     "elapsed": 1246,
     "status": "ok",
     "timestamp": 1677766953139,
     "user": {
      "displayName": "陈振",
      "userId": "06999655275882771177"
     },
     "user_tz": 0
    },
    "id": "H90vgZFUOZsE",
    "outputId": "b6dc572d-9c4b-4b9d-d7dd-2f763d5e12c6"
   },
   "outputs": [],
   "source": [
    "from sklearn.metrics import roc_curve\n",
    "from sklearn.metrics import RocCurveDisplay\n",
    "\n",
    "y_score = clf.decision_function(X_test)\n",
    "\n",
    "fpr, tpr, _ = roc_curve(y_test, y_score, pos_label=clf.classes_[1])\n",
    "roc_display = RocCurveDisplay(fpr=fpr, tpr=tpr).plot()"
   ]
  },
  {
   "cell_type": "markdown",
   "metadata": {
    "id": "Oob8vis_OZsF"
   },
   "source": [
    "### Create :class:`PrecisionRecallDisplay`\n",
    " Similarly, the precision recall curve can be plotted using `y_score` from\n",
    " the prevision sections.\n",
    "\n"
   ]
  },
  {
   "cell_type": "code",
   "execution_count": null,
   "metadata": {
    "colab": {
     "base_uri": "https://localhost:8080/",
     "height": 279
    },
    "executionInfo": {
     "elapsed": 867,
     "status": "ok",
     "timestamp": 1677766965560,
     "user": {
      "displayName": "陈振",
      "userId": "06999655275882771177"
     },
     "user_tz": 0
    },
    "id": "4lC_QDLmOZsF",
    "outputId": "5e3de15a-9234-42a7-a5d8-72674903722b"
   },
   "outputs": [],
   "source": [
    "from sklearn.metrics import precision_recall_curve\n",
    "from sklearn.metrics import PrecisionRecallDisplay\n",
    "\n",
    "prec, recall, _ = precision_recall_curve(y_test, y_score, pos_label=clf.classes_[1])\n",
    "pr_display = PrecisionRecallDisplay(precision=prec, recall=recall).plot()"
   ]
  },
  {
   "cell_type": "markdown",
   "metadata": {
    "id": "Qu5_WhsCOZsG"
   },
   "source": [
    "### Combining the display objects into a single plot\n",
    " The display objects store the computed values that were passed as arguments.\n",
    " This allows for the visualizations to be easliy combined using matplotlib's\n",
    " API. In the following example, we place the displays next to each other in a\n",
    " row.\n",
    "\n"
   ]
  },
  {
   "cell_type": "code",
   "execution_count": null,
   "metadata": {
    "colab": {
     "base_uri": "https://localhost:8080/",
     "height": 497
    },
    "executionInfo": {
     "elapsed": 1060,
     "status": "ok",
     "timestamp": 1677766975251,
     "user": {
      "displayName": "陈振",
      "userId": "06999655275882771177"
     },
     "user_tz": 0
    },
    "id": "1NJV5C_OOZsG",
    "outputId": "96511045-6c81-4508-a423-98d3dfb85003"
   },
   "outputs": [],
   "source": [
    "import matplotlib.pyplot as plt\n",
    "\n",
    "fig, (ax1, ax2) = plt.subplots(1, 2, figsize=(12, 8))\n",
    "\n",
    "roc_display.plot(ax=ax1)\n",
    "pr_display.plot(ax=ax2)\n",
    "plt.show()"
   ]
  },
  {
   "cell_type": "markdown",
   "metadata": {
    "id": "0ZQoHQhAwkRx"
   },
   "source": [
    "### F-1 Score\n",
    "precision and recall are equally balanced"
   ]
  },
  {
   "cell_type": "code",
   "execution_count": null,
   "metadata": {
    "colab": {
     "base_uri": "https://localhost:8080/"
    },
    "executionInfo": {
     "elapsed": 5,
     "status": "ok",
     "timestamp": 1677767874835,
     "user": {
      "displayName": "陈振",
      "userId": "06999655275882771177"
     },
     "user_tz": 0
    },
    "id": "uqznnqLAuwmL",
    "outputId": "4cdb6857-5951-4500-8474-13e7ac8ecab8"
   },
   "outputs": [],
   "source": [
    "from sklearn.metrics import f1_score\n",
    "f1_score(y_test, y_pred, pos_label= clf.classes_[1])"
   ]
  }
 ],
 "metadata": {
  "colab": {
   "provenance": []
  },
  "kernelspec": {
   "display_name": "myenv",
   "language": "python",
   "name": "python3"
  },
  "language_info": {
   "codemirror_mode": {
    "name": "ipython",
    "version": 3
   },
   "file_extension": ".py",
   "mimetype": "text/x-python",
   "name": "python",
   "nbconvert_exporter": "python",
   "pygments_lexer": "ipython3",
   "version": "3.10.9"
  },
  "vscode": {
   "interpreter": {
    "hash": "9c37791b62b9d5c239fb0fc5acdaf3bd7e92ad96e6d57cd91101e1e69e5d3005"
   }
  }
 },
 "nbformat": 4,
 "nbformat_minor": 1
}
