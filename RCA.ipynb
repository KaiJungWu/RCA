{
  "nbformat": 4,
  "nbformat_minor": 0,
  "metadata": {
    "colab": {
      "provenance": [],
      "authorship_tag": "ABX9TyNp5KOCJ4SxDsTOApej4rHX",
      "include_colab_link": true
    },
    "kernelspec": {
      "name": "python3",
      "display_name": "Python 3"
    },
    "language_info": {
      "name": "python"
    }
  },
  "cells": [
    {
      "cell_type": "markdown",
      "metadata": {
        "id": "view-in-github",
        "colab_type": "text"
      },
      "source": [
        "<a href=\"https://colab.research.google.com/github/KaiJungWu/RCA/blob/main/RCA.ipynb\" target=\"_parent\"><img src=\"https://colab.research.google.com/assets/colab-badge.svg\" alt=\"Open In Colab\"/></a>"
      ]
    },
    {
      "cell_type": "code",
      "execution_count": 18,
      "metadata": {
        "colab": {
          "base_uri": "https://localhost:8080/"
        },
        "id": "KypLb5BZf2ot",
        "outputId": "06350595-e097-4116-e21a-08b51e1d9e30"
      },
      "outputs": [
        {
          "output_type": "stream",
          "name": "stdout",
          "text": [
            "1. Title of Database: Wine recognition data\n",
            "\tUpdated Sept 21, 1998 by C.Blake : Added attribute information\n",
            "\n",
            "2. Sources:\n",
            "   (a) Forina, M. et al, PARVUS - An Extendible Package for Data\n",
            "       Exploration, Classification and Correlation. Institute of Pharmaceutical\n",
            "       and Food Analysis and Technologies, Via Brigata Salerno, \n",
            "       16147 Genoa, Italy.\n",
            "\n",
            "   (b) Stefan Aeberhard, email: stefan@coral.cs.jcu.edu.au\n",
            "   (c) July 1991\n",
            "3. Past Usage:\n",
            "\n",
            "   (1)\n",
            "   S. Aeberhard, D. Coomans and O. de Vel,\n",
            "   Comparison of Classifiers in High Dimensional Settings,\n",
            "   Tech. Rep. no. 92-02, (1992), Dept. of Computer Science and Dept. of\n",
            "   Mathematics and Statistics, James Cook University of North Queensland.\n",
            "   (Also submitted to Technometrics).\n",
            "\n",
            "   The data was used with many others for comparing various \n",
            "   classifiers. The classes are separable, though only RDA \n",
            "   has achieved 100% correct classification.\n",
            "   (RDA : 100%, QDA 99.4%, LDA 98.9%, 1NN 96.1% (z-transformed data))\n",
            "   (All results using the leave-one-out technique)\n",
            "\n",
            "   In a classification context, this is a well posed problem \n",
            "   with \"well behaved\" class structures. A good data set \n",
            "   for first testing of a new classifier, but not very \n",
            "   challenging.\n",
            "\n",
            "   (2) \n",
            "   S. Aeberhard, D. Coomans and O. de Vel,\n",
            "   \"THE CLASSIFICATION PERFORMANCE OF RDA\"\n",
            "   Tech. Rep. no. 92-01, (1992), Dept. of Computer Science and Dept. of\n",
            "   Mathematics and Statistics, James Cook University of North Queensland.\n",
            "   (Also submitted to Journal of Chemometrics).\n",
            "\n",
            "   Here, the data was used to illustrate the superior performance of\n",
            "   the use of a new appreciation function with RDA. \n",
            "\n",
            "4. Relevant Information:\n",
            "\n",
            "   -- These data are the results of a chemical analysis of\n",
            "      wines grown in the same region in Italy but derived from three\n",
            "      different cultivars.\n",
            "      The analysis determined the quantities of 13 constituents\n",
            "      found in each of the three types of wines. \n",
            "\n",
            "   -- I think that the initial data set had around 30 variables, but \n",
            "      for some reason I only have the 13 dimensional version. \n",
            "      I had a list of what the 30 or so variables were, but a.) \n",
            "      I lost it, and b.), I would not know which 13 variables\n",
            "      are included in the set.\n",
            "\n",
            "   -- The attributes are (dontated by Riccardo Leardi, \n",
            "\triclea@anchem.unige.it )\n",
            " \t1) Alcohol\n",
            " \t2) Malic acid\n",
            " \t3) Ash\n",
            "\t4) Alcalinity of ash  \n",
            " \t5) Magnesium\n",
            "\t6) Total phenols\n",
            " \t7) Flavanoids\n",
            " \t8) Nonflavanoid phenols\n",
            " \t9) Proanthocyanins\n",
            "\t10)Color intensity\n",
            " \t11)Hue\n",
            " \t12)OD280/OD315 of diluted wines\n",
            " \t13)Proline            \n",
            "\n",
            "5. Number of Instances\n",
            "\n",
            "      \tclass 1 59\n",
            "\tclass 2 71\n",
            "\tclass 3 48\n",
            "\n",
            "6. Number of Attributes \n",
            "\t\n",
            "\t13\n",
            "\n",
            "7. For Each Attribute:\n",
            "\n",
            "\tAll attributes are continuous\n",
            "\t\n",
            "\tNo statistics available, but suggest to standardise\n",
            "\tvariables for certain uses (e.g. for us with classifiers\n",
            "\twhich are NOT scale invariant)\n",
            "\n",
            "\tNOTE: 1st attribute is class identifier (1-3)\n",
            "\n",
            "8. Missing Attribute Values:\n",
            "\n",
            "\tNone\n",
            "\n",
            "9. Class Distribution: number of instances per class\n",
            "\n",
            "      \tclass 1 59\n",
            "\tclass 2 71\n",
            "\tclass 3 48\n",
            "\n",
            "Index of wine\n",
            "\n",
            "02 Dec 1996      105 Index\n",
            "30 Oct 1995    10782 wine.data\n",
            "19 Sep 1992     2643 wine.names\n",
            "\n"
          ]
        },
        {
          "output_type": "execute_result",
          "data": {
            "text/plain": [
              "str"
            ]
          },
          "metadata": {},
          "execution_count": 18
        }
      ],
      "source": [
        "#read file\n",
        "with open(\"/wine.data\", \"r\") as f1,open ('/wine.names',\"r\") as f2,open(\"/Index\",\"r\") as f3:\n",
        "    data = f1.read()\n",
        "    name= f2.read()\n",
        "    index=f3.read()\n",
        "    #print(data)\n",
        "    print(name)\n",
        "    print(index)\n",
        "type(data)"
      ]
    },
    {
      "cell_type": "code",
      "source": [
        "#transformat\n",
        "import pandas as pd\n",
        "\n",
        "# import the StrinIO function\n",
        "# from io module\n",
        "from io import StringIO\n",
        "\n",
        "\n",
        "# wrap the string data in StringIO function\n",
        "StringData = StringIO(data)\n",
        "\n",
        "# let's read the data using the Pandas\n",
        "# read_csv() function#\n",
        "colnames=['Class','Alcohol', 'Malic acid','Ash','Alcalinity of ash',  'Magnesium', 'Total phenols', 'Flavanoids', 'Nonflavanoid phenols', 'Proanthocyanins','Color intensity','Hue','OD280/OD315 of diluted wines','Proline']\n",
        "df = pd.read_csv(StringData, sep =\",\",names=colnames)\n",
        "\n",
        "# Print the dataframe\n",
        "#rint(df)\n",
        "\n",
        "print(df.describe())\n",
        "print(df.shape)"
      ],
      "metadata": {
        "colab": {
          "base_uri": "https://localhost:8080/"
        },
        "id": "oCWrIrQj2tEu",
        "outputId": "a2b9e4bc-772a-47e3-e25a-997dd87697c7"
      },
      "execution_count": 26,
      "outputs": [
        {
          "output_type": "stream",
          "name": "stdout",
          "text": [
            "            Class     Alcohol  Malic acid         Ash  Alcalinity of ash  \\\n",
            "count  178.000000  178.000000  178.000000  178.000000         178.000000   \n",
            "mean     1.938202   13.000618    2.336348    2.366517          19.494944   \n",
            "std      0.775035    0.811827    1.117146    0.274344           3.339564   \n",
            "min      1.000000   11.030000    0.740000    1.360000          10.600000   \n",
            "25%      1.000000   12.362500    1.602500    2.210000          17.200000   \n",
            "50%      2.000000   13.050000    1.865000    2.360000          19.500000   \n",
            "75%      3.000000   13.677500    3.082500    2.557500          21.500000   \n",
            "max      3.000000   14.830000    5.800000    3.230000          30.000000   \n",
            "\n",
            "        Magnesium  Total phenols  Flavanoids  Nonflavanoid phenols  \\\n",
            "count  178.000000     178.000000  178.000000            178.000000   \n",
            "mean    99.741573       2.295112    2.029270              0.361854   \n",
            "std     14.282484       0.625851    0.998859              0.124453   \n",
            "min     70.000000       0.980000    0.340000              0.130000   \n",
            "25%     88.000000       1.742500    1.205000              0.270000   \n",
            "50%     98.000000       2.355000    2.135000              0.340000   \n",
            "75%    107.000000       2.800000    2.875000              0.437500   \n",
            "max    162.000000       3.880000    5.080000              0.660000   \n",
            "\n",
            "       Proanthocyanins  Color intensity         Hue  \\\n",
            "count       178.000000       178.000000  178.000000   \n",
            "mean          1.590899         5.058090    0.957449   \n",
            "std           0.572359         2.318286    0.228572   \n",
            "min           0.410000         1.280000    0.480000   \n",
            "25%           1.250000         3.220000    0.782500   \n",
            "50%           1.555000         4.690000    0.965000   \n",
            "75%           1.950000         6.200000    1.120000   \n",
            "max           3.580000        13.000000    1.710000   \n",
            "\n",
            "       OD280/OD315 of diluted wines      Proline  \n",
            "count                    178.000000   178.000000  \n",
            "mean                       2.611685   746.893258  \n",
            "std                        0.709990   314.907474  \n",
            "min                        1.270000   278.000000  \n",
            "25%                        1.937500   500.500000  \n",
            "50%                        2.780000   673.500000  \n",
            "75%                        3.170000   985.000000  \n",
            "max                        4.000000  1680.000000  \n",
            "(178, 14)\n"
          ]
        }
      ]
    },
    {
      "cell_type": "code",
      "source": [
        "y_train=pd.read_csv('/content/dd/y_train.txt')\n",
        "x_train=pd.read_csv('/content/dd/X_train.txt',sep='\\s+',header=None)\n",
        "name=pd.read_csv('/content/dd/subject_train.txt')\n",
        "print(name)\n",
        "\n",
        "\n",
        "#type(x_train)\n",
        "print(x_train.shape)\n",
        "#Transfor class label to one-hot econder\n",
        "\n",
        "#target_mapping = {\"setosa\": 0,\n",
        "#                  \"versicolor\": 1,\n",
        "#                  \"virginica\": 2}\n",
        "#Y = df[\"target\"].map(target_mapping)"
      ],
      "metadata": {
        "colab": {
          "base_uri": "https://localhost:8080/"
        },
        "id": "6H3uqyV-OQWR",
        "outputId": "9eb2bfca-1a2f-45c6-d2a5-42f2723e11f7"
      },
      "execution_count": 45,
      "outputs": [
        {
          "output_type": "stream",
          "name": "stdout",
          "text": [
            "       1\n",
            "0      1\n",
            "1      1\n",
            "2      1\n",
            "3      1\n",
            "4      1\n",
            "...   ..\n",
            "7346  30\n",
            "7347  30\n",
            "7348  30\n",
            "7349  30\n",
            "7350  30\n",
            "\n",
            "[7351 rows x 1 columns]\n",
            "(7352, 561)\n"
          ]
        }
      ]
    },
    {
      "cell_type": "code",
      "source": [
        "df_501=pd.read_csv('/content/dd/501.csv')\n",
        "#print(df_501)\n",
        "df_501_new = df_501.sample(frac=0.10)\n",
        "print(df_501_new)\n",
        "data = pd.DataFrame()\n",
        "df_merged = pd.concat([data, df_501_new], ignore_index=True, sort=False)\n",
        "print(df_merged.shape[0])"
      ],
      "metadata": {
        "colab": {
          "base_uri": "https://localhost:8080/"
        },
        "id": "aGEUj2X7vEeh",
        "outputId": "1f352bb8-67be-414d-f5a1-493d659a90fa"
      },
      "execution_count": 52,
      "outputs": [
        {
          "output_type": "stream",
          "name": "stdout",
          "text": [
            "                     timestamp    back_x    back_y    back_z   thigh_x  \\\n",
            "54757  2021-03-24 15:00:41.099 -1.114502 -0.272705 -0.336914 -1.048340   \n",
            "4048   2021-03-24 14:43:24.799 -0.937256 -0.125000 -0.171875 -0.984375   \n",
            "43738  2021-03-24 14:57:00.720 -0.671143 -0.303467 -0.197998 -1.213867   \n",
            "46477  2021-03-24 14:57:55.500 -1.015137 -0.108887 -0.203125 -0.988037   \n",
            "89893  2021-03-24 15:12:23.819 -1.156250 -0.239502 -0.521973 -1.318359   \n",
            "...                        ...       ...       ...       ...       ...   \n",
            "76924  2021-03-24 15:08:04.440 -0.948975 -0.091797 -0.268066 -1.042480   \n",
            "65219  2021-03-24 15:04:10.340 -0.998047 -0.082764  0.202881 -1.033691   \n",
            "12904  2021-03-24 14:46:25.119 -0.832031 -0.059082 -0.337402 -1.187012   \n",
            "30628  2021-03-24 14:52:38.520 -1.019287 -0.125000 -0.093750 -0.968750   \n",
            "85881  2021-03-24 15:11:03.579 -1.049805 -0.014404  0.008545 -1.260498   \n",
            "\n",
            "        thigh_y   thigh_z  label  \n",
            "54757 -0.341064 -0.078613      1  \n",
            "4048  -0.090332 -0.098877      6  \n",
            "43738  0.070312  0.139160      1  \n",
            "46477 -0.112549  0.067871      1  \n",
            "89893 -0.032715  0.271973      1  \n",
            "...         ...       ...    ...  \n",
            "76924 -0.052979  0.049072      1  \n",
            "65219 -0.036133 -0.238770      1  \n",
            "12904 -0.135010  0.355957      1  \n",
            "30628 -0.123291 -0.031250      6  \n",
            "85881 -0.106689 -0.370361      1  \n",
            "\n",
            "[10386 rows x 8 columns]\n",
            "10386\n"
          ]
        }
      ]
    },
    {
      "cell_type": "code",
      "source": [
        "def training_set(name,null_df,df_merged):\n",
        "  raw_data=pd.read_csv(f'/content/dd/{name}.csv')\n",
        "  raw_data_sample=raw_data.sample(frac=0.025)\n",
        "  print(raw_data_sample.shape)\n",
        "\n",
        "  df_merge=pd.concat([null_df,raw_data_sample],ignore_index=True,sort=False)\n",
        "  print(df_merge.shape[0])\n",
        "  return df_merged\n",
        "\n",
        "\n"
      ],
      "metadata": {
        "colab": {
          "base_uri": "https://localhost:8080/"
        },
        "id": "gt7MlhZjvESC",
        "outputId": "7685a1eb-5012-4ca1-d8f4-282b56c622fd"
      },
      "execution_count": 54,
      "outputs": [
        {
          "output_type": "stream",
          "name": "stdout",
          "text": [
            "(2596, 8)\n",
            "2596\n",
            "(3284, 8)\n",
            "3284\n",
            "(2910, 8)\n",
            "2910\n",
            "(3052, 8)\n",
            "3052\n"
          ]
        }
      ]
    },
    {
      "cell_type": "code",
      "source": [
        "name=['501','502','503','510']\n",
        "training_set=pd.DataFrame()\n",
        "testing_set=pd.DataFrame()\n",
        "\n",
        "for i in name:\n",
        "  raw_data=pd.read_csv(f'/content/dd/{i}.csv')\n",
        "  split = StratifiedShuffleSplit(n_splits = 5, random_state = 42, test_size=0.002, train_size=0.008)\n",
        "  #raw_data_sample=raw_data.sample(frac=0.025)\n",
        "  print(raw_data_sample.shape)\n",
        "  for train_index, test_index in split.split(train, train[\"label\"]):\n",
        "    strat_train_set = train.loc[train_index]\n",
        "    strat_test_set = train.loc[test_index]\n",
        "  if name.index(i)==0:\n",
        "    df_merge=pd.concat([null_df,raw_data_sample],ignore_index=True,sort=False)\n",
        "  else :\n",
        "    df_merge=pd.concat([df_merge,raw_data_sample],ignore_index=True,sort=False)\n",
        "  print(df_merge.shape[0])\n"
      ],
      "metadata": {
        "colab": {
          "base_uri": "https://localhost:8080/"
        },
        "id": "xT0uSJnE2Qtv",
        "outputId": "8783a9f7-d7b0-4bcd-b913-2b39b7645eb3"
      },
      "execution_count": 59,
      "outputs": [
        {
          "output_type": "stream",
          "name": "stdout",
          "text": [
            "(2596, 8)\n",
            "2596\n",
            "(3284, 8)\n",
            "5880\n",
            "(2910, 8)\n",
            "8790\n",
            "(3052, 8)\n",
            "11842\n"
          ]
        }
      ]
    },
    {
      "cell_type": "code",
      "source": [
        "from sklearn.model_selection import StratifiedShuffleSplit\n",
        "def stratified_sampling(df):\n",
        "\n",
        "  #train=pd.read_csv('/content/dd/501.csv')\n",
        "  split = StratifiedShuffleSplit(n_splits = 5, random_state = 42, test_size=0.002, train_size=0.008)\n",
        "  #每個分組都取20%放入測試集\n",
        "\n",
        "  for train_index, test_index in split.split(train, train[\"label\"]):\n",
        "      strat_train_set = train.loc[train_index]\n",
        "      strat_test_set = train.loc[test_index]\n",
        "  return train,test\n",
        "  print(strat_train_set)\n",
        "  train[\"label\"].hist()\n",
        "plt.title(\"label\")\n",
        "plt.show()\n",
        "strat_train_set[\"label\"].hist()\n",
        "plt.title(\"label\")\n",
        "plt.show()\n",
        "print(strat_train_set.shape)"
      ],
      "metadata": {
        "colab": {
          "base_uri": "https://localhost:8080/",
          "height": 1000
        },
        "id": "EX9OlNgK7v0s",
        "outputId": "9b020cae-a8c4-4dfe-bbf5-ff3ccf803a1d"
      },
      "execution_count": 82,
      "outputs": [
        {
          "output_type": "stream",
          "name": "stdout",
          "text": [
            "                     timestamp    back_x    back_y    back_z   thigh_x  \\\n",
            "33418  2021-03-24 14:53:34.319 -1.000000  0.017090 -0.120605 -0.951904   \n",
            "38326  2021-03-24 14:55:12.479 -0.999756 -0.296143 -0.187500 -0.975342   \n",
            "78237  2021-03-24 15:08:30.700 -0.671875 -0.012451 -0.259277 -0.972412   \n",
            "93051  2021-03-24 15:13:26.979 -0.793701  0.039062  0.045166 -1.139404   \n",
            "12992  2021-03-24 14:46:26.880 -0.981934 -0.218750 -0.190674 -0.760254   \n",
            "...                        ...       ...       ...       ...       ...   \n",
            "63493  2021-03-24 15:03:35.819 -0.869873 -0.105469  0.088867 -0.099365   \n",
            "80051  2021-03-24 15:09:06.980 -0.881104 -0.096924 -0.199463 -1.080811   \n",
            "98158  2021-03-24 15:15:10.119 -0.828613 -0.109131  0.500488 -0.232910   \n",
            "94033  2021-03-24 15:13:46.619 -1.321289  0.129150 -0.320312 -1.309814   \n",
            "23206  2021-03-24 14:49:54.319 -0.140625 -0.004395  0.906250 -0.133301   \n",
            "\n",
            "        thigh_y   thigh_z  label  \n",
            "33418 -0.048584  0.156982      6  \n",
            "38326 -0.105225 -0.272217      1  \n",
            "78237 -0.187500 -0.115967      1  \n",
            "93051  0.046631 -0.375244      1  \n",
            "12992 -0.007080 -0.498535      1  \n",
            "...         ...       ...    ...  \n",
            "63493 -0.035400  0.031250      1  \n",
            "80051  0.041504  0.045166      1  \n",
            "98158 -0.203125 -1.058350      7  \n",
            "94033 -0.237061 -0.478516      1  \n",
            "23206 -0.125000 -1.078125      8  \n",
            "\n",
            "[830 rows x 8 columns]\n"
          ]
        },
        {
          "output_type": "display_data",
          "data": {
            "text/plain": [
              "<Figure size 640x480 with 1 Axes>"
            ],
            "image/png": "[encoded data removed]"
          },
          "metadata": {}
        },
        {
          "output_type": "display_data",
          "data": {
            "text/plain": [
              "<Figure size 640x480 with 1 Axes>"
            ],
            "image/png": "[encoded data removed]"
          },
          "metadata": {}
        },
        {
          "output_type": "stream",
          "name": "stdout",
          "text": [
            "(830, 8)\n"
          ]
        }
      ]
    }
  ]
}